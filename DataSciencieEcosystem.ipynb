{
  "metadata": {
    "kernelspec": {
      "name": "python",
      "display_name": "Python (Pyodide)",
      "language": "python"
    },
    "language_info": {
      "codemirror_mode": {
        "name": "python",
        "version": 3
      },
      "file_extension": ".py",
      "mimetype": "text/x-python",
      "name": "python",
      "nbconvert_exporter": "python",
      "pygments_lexer": "ipython3",
      "version": "3.8"
    }
  },
  "nbformat_minor": 4,
  "nbformat": 4,
  "cells": [
    {
      "cell_type": "markdown",
      "source": "### Ejercicio 1: Crear cuaderno de Jupiter",
      "metadata": {}
    },
    {
      "cell_type": "markdown",
      "source": "Nombre del cuaderno ***DataSciencieEcosystem.ipypnb***",
      "metadata": {}
    },
    {
      "cell_type": "markdown",
      "source": "### Ejercicio 2: Crear celda de Markdown con titulo de cuaderno",
      "metadata": {}
    },
    {
      "cell_type": "markdown",
      "source": "Data Sciencie Tools and Ecosystem",
      "metadata": {}
    },
    {
      "cell_type": "markdown",
      "source": "### Ejercicio 3 Crear una celda de Markdown para una introducciòn",
      "metadata": {}
    },
    {
      "cell_type": "markdown",
      "source": "In this notebook, Data Science Tools and Ecosystem are summarized",
      "metadata": {}
    },
    {
      "cell_type": "markdown",
      "source": "***Objetives:***",
      "metadata": {}
    },
    {
      "cell_type": "markdown",
      "source": "- Crear celdas Markdown\n- Crear celdas Markdown en negrita\n- Crear celdas Markdown para enumerar una lista\n- Crear celdas Markdown con tabla\n- Crear celdas de codigo con expresiones aritmeticas\n",
      "metadata": {}
    },
    {
      "cell_type": "markdown",
      "source": "### Ejercicio 4: Crear una celda de Markdown para enumerar los lenguajes de la Ciencia de los Datos",
      "metadata": {}
    },
    {
      "cell_type": "markdown",
      "source": "Some of the popular lenguages that Data Scientist use are:",
      "metadata": {}
    },
    {
      "cell_type": "markdown",
      "source": "1. Python\n2. Java\n3. C++\n4. C",
      "metadata": {}
    },
    {
      "cell_type": "markdown",
      "source": "### Ejercicio 5: Crear una celda de Markdown para enumerar las bibliotecas de Ciencia de Datos",
      "metadata": {}
    },
    {
      "cell_type": "markdown",
      "source": "Some of the commonly used libraries used by Data Scienctists incluide:",
      "metadata": {}
    },
    {
      "cell_type": "markdown",
      "source": "1. Pandas\n2. NumPy\n3. Matplotlib\n4. TonsorFlow",
      "metadata": {}
    },
    {
      "cell_type": "markdown",
      "source": "### Ejercicio 6: Crear una celda de Markdown con una tabla de herramientas de Ciencia de Datos",
      "metadata": {}
    },
    {
      "cell_type": "markdown",
      "source": "|Data Science Tools|\n|---------------------|\n|1. Git|\n|2. Docker|\n|3. Jupiter Notebooks|",
      "metadata": {}
    },
    {
      "cell_type": "markdown",
      "source": "### Ejercicio 7: Crear una celda de Markdown que presente ejemplos de expresiones aritmeticas",
      "metadata": {}
    },
    {
      "cell_type": "markdown",
      "source": "### Below are a few examples of evaluating arithmetic expressions in Python",
      "metadata": {}
    },
    {
      "cell_type": "markdown",
      "source": "### Ejercicio 8: Crear una celda de codigo para multiplicar y sumar numeros",
      "metadata": {}
    },
    {
      "cell_type": "markdown",
      "source": "this is a simple arithmetic expression to mutiply then add integers",
      "metadata": {}
    },
    {
      "cell_type": "code",
      "source": "(3*4)+5",
      "metadata": {
        "trusted": true
      },
      "outputs": [
        {
          "execution_count": 11,
          "output_type": "execute_result",
          "data": {
            "text/plain": "17"
          },
          "metadata": {}
        }
      ],
      "execution_count": 11
    },
    {
      "cell_type": "markdown",
      "source": "### Ejercicio 9: Crear una celda de codigo para convertir minutos a horas",
      "metadata": {}
    },
    {
      "cell_type": "markdown",
      "source": "this will convert 200 minutes to hours by diving by 60",
      "metadata": {}
    },
    {
      "cell_type": "code",
      "source": "200/60",
      "metadata": {
        "trusted": true
      },
      "outputs": [
        {
          "execution_count": 15,
          "output_type": "execute_result",
          "data": {
            "text/plain": "3.3333333333333335"
          },
          "metadata": {}
        }
      ],
      "execution_count": 15
    },
    {
      "cell_type": "markdown",
      "source": " ### Ejercicio 10: Insertar una celda Markdown para enumerar los objetivos",
      "metadata": {}
    },
    {
      "cell_type": "markdown",
      "source": "***Objetives:***",
      "metadata": {}
    },
    {
      "cell_type": "markdown",
      "source": "- Crear celdas Markdown\n- Crear celdas Markdown en negrita\n- Crear celdas Markdown para enumerar una lista\n- Crear celdas Markdown con tabla\n- Crear celdas de codigo con expresiones aritmeticas\n",
      "metadata": {}
    },
    {
      "cell_type": "markdown",
      "source": "### Ejercicio 11: Crear una celda de Markdown Para indicar el nombre del Autor",
      "metadata": {}
    },
    {
      "cell_type": "markdown",
      "source": "## Autor \nLuis Fernando Gutiérrez Arias",
      "metadata": {
        "jp-MarkdownHeadingCollapsed": true
      }
    }
  ]
}